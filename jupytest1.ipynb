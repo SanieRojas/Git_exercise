{
 "cells": [
  {
   "cell_type": "markdown",
   "id": "721026da",
   "metadata": {},
   "source": [
    "Importing word2v model for quick word-analyses\n"
   ]
  },
  {
   "cell_type": "code",
   "execution_count": null,
   "id": "31bf185f-0895-40f8-a218-2a059b1438fc",
   "metadata": {},
   "outputs": [],
   "source": [
    "import gensim.downloader as api\n",
    "\n",
    "\n",
    "print(\"Succesful process initiation...\")\n",
    "model = api.load('word2vec-google-news-300')\n",
    "print(\"Model Word2Vec succesfully loaded\")\n",
    "\n",
    "words_list = list(model.index_to_key)\n",
    "print(\"Words listed sucessfully for analysis\")"
   ]
  },
  {
   "cell_type": "markdown",
   "id": "ff76e3f8",
   "metadata": {},
   "source": [
    "Generating small UI for interaction     "
   ]
  },
  {
   "cell_type": "code",
   "execution_count": null,
   "id": "5d124dc1",
   "metadata": {},
   "outputs": [],
   "source": [
    "import pandas as pd \n",
    "user_input = input(\"Please, ask for word similarities. What word would you like to explore? \")\n",
    "\n",
    "if user_input in words_list:\n",
    "    print(\"Most similar words identified:\", pd.DataFrame(model.most_similar(user_input, topn=10))),\n",
    "else: print(\"Word not covered in this model\")\n"
   ]
  }
 ],
 "metadata": {
  "kernelspec": {
   "display_name": "Test1jupykernel",
   "language": "python",
   "name": "test1jupykernel"
  },
  "language_info": {
   "codemirror_mode": {
    "name": "ipython",
    "version": 3
   },
   "file_extension": ".py",
   "mimetype": "text/x-python",
   "name": "python",
   "nbconvert_exporter": "python",
   "pygments_lexer": "ipython3",
   "version": "3.11.5"
  }
 },
 "nbformat": 4,
 "nbformat_minor": 5
}
